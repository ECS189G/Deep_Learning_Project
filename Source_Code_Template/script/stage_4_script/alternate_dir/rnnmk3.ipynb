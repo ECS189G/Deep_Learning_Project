{
 "cells": [
  {
   "cell_type": "code",
   "execution_count": 14,
   "metadata": {},
   "outputs": [],
   "source": [
    "import torch\n",
    "from transformers import BertTokenizer, BertModel, BertForSequenceClassification\n",
    "import logging\n",
    "import matplotlib.pyplot as plt\n",
    "import pandas as pd"
   ]
  },
  {
   "cell_type": "code",
   "execution_count": 15,
   "metadata": {},
   "outputs": [
    {
     "data": {
      "text/html": [
       "<div>\n",
       "<style scoped>\n",
       "    .dataframe tbody tr th:only-of-type {\n",
       "        vertical-align: middle;\n",
       "    }\n",
       "\n",
       "    .dataframe tbody tr th {\n",
       "        vertical-align: top;\n",
       "    }\n",
       "\n",
       "    .dataframe thead th {\n",
       "        text-align: right;\n",
       "    }\n",
       "</style>\n",
       "<table border=\"1\" class=\"dataframe\">\n",
       "  <thead>\n",
       "    <tr style=\"text-align: right;\">\n",
       "      <th></th>\n",
       "      <th>Unnamed: 0</th>\n",
       "      <th>Review_Text</th>\n",
       "      <th>isPos</th>\n",
       "      <th>Stemmed_Review_Text</th>\n",
       "    </tr>\n",
       "  </thead>\n",
       "  <tbody>\n",
       "    <tr>\n",
       "      <th>0</th>\n",
       "      <td>0</td>\n",
       "      <td>comment limited generally first season 1959-60...</td>\n",
       "      <td>1</td>\n",
       "      <td>comment limit gener first season 1959-60&lt;br /&gt;...</td>\n",
       "    </tr>\n",
       "    <tr>\n",
       "      <th>1</th>\n",
       "      <td>0</td>\n",
       "      <td>writer ever happened baby jane hush hush sweet...</td>\n",
       "      <td>1</td>\n",
       "      <td>writer ever happen babi jane hush hush sweet c...</td>\n",
       "    </tr>\n",
       "    <tr>\n",
       "      <th>2</th>\n",
       "      <td>0</td>\n",
       "      <td>curious know critics responded rousing inspiri...</td>\n",
       "      <td>1</td>\n",
       "      <td>curiou know critic respond rous inspir film we...</td>\n",
       "    </tr>\n",
       "    <tr>\n",
       "      <th>3</th>\n",
       "      <td>0</td>\n",
       "      <td>agree mr caruso jr lanzas finest voice god off...</td>\n",
       "      <td>1</td>\n",
       "      <td>agre mr caruso jr lanza finest voic god offer ...</td>\n",
       "    </tr>\n",
       "    <tr>\n",
       "      <th>4</th>\n",
       "      <td>0</td>\n",
       "      <td>movie fictional soap opera fast funny say anyt...</td>\n",
       "      <td>1</td>\n",
       "      <td>movi fiction soap opera fast funni say anyth e...</td>\n",
       "    </tr>\n",
       "  </tbody>\n",
       "</table>\n",
       "</div>"
      ],
      "text/plain": [
       "   Unnamed: 0                                        Review_Text  isPos  \\\n",
       "0           0  comment limited generally first season 1959-60...      1   \n",
       "1           0  writer ever happened baby jane hush hush sweet...      1   \n",
       "2           0  curious know critics responded rousing inspiri...      1   \n",
       "3           0  agree mr caruso jr lanzas finest voice god off...      1   \n",
       "4           0  movie fictional soap opera fast funny say anyt...      1   \n",
       "\n",
       "                                 Stemmed_Review_Text  \n",
       "0  comment limit gener first season 1959-60<br />...  \n",
       "1  writer ever happen babi jane hush hush sweet c...  \n",
       "2  curiou know critic respond rous inspir film we...  \n",
       "3  agre mr caruso jr lanza finest voic god offer ...  \n",
       "4  movi fiction soap opera fast funni say anyth e...  "
      ]
     },
     "execution_count": 15,
     "metadata": {},
     "output_type": "execute_result"
    }
   ],
   "source": [
    "trainingDF = pd.read_csv(\"training_corpus.csv\")\n",
    "trainingDF.head()"
   ]
  },
  {
   "cell_type": "code",
   "execution_count": 16,
   "metadata": {},
   "outputs": [
    {
     "data": {
      "text/html": [
       "<div>\n",
       "<style scoped>\n",
       "    .dataframe tbody tr th:only-of-type {\n",
       "        vertical-align: middle;\n",
       "    }\n",
       "\n",
       "    .dataframe tbody tr th {\n",
       "        vertical-align: top;\n",
       "    }\n",
       "\n",
       "    .dataframe thead th {\n",
       "        text-align: right;\n",
       "    }\n",
       "</style>\n",
       "<table border=\"1\" class=\"dataframe\">\n",
       "  <thead>\n",
       "    <tr style=\"text-align: right;\">\n",
       "      <th></th>\n",
       "      <th>Unnamed: 0</th>\n",
       "      <th>Review_Text</th>\n",
       "      <th>isPos</th>\n",
       "      <th>Stemmed_Review_Text</th>\n",
       "    </tr>\n",
       "  </thead>\n",
       "  <tbody>\n",
       "    <tr>\n",
       "      <th>0</th>\n",
       "      <td>0</td>\n",
       "      <td>movie excellent save scenes esposito enjoyed b...</td>\n",
       "      <td>1</td>\n",
       "      <td>movi excel save scene esposito enjoy brought t...</td>\n",
       "    </tr>\n",
       "    <tr>\n",
       "      <th>1</th>\n",
       "      <td>0</td>\n",
       "      <td>take look faces alongside entrance jail they'r...</td>\n",
       "      <td>1</td>\n",
       "      <td>take look face alongsid entranc jail they'r fa...</td>\n",
       "    </tr>\n",
       "    <tr>\n",
       "      <th>2</th>\n",
       "      <td>0</td>\n",
       "      <td>wonderful story seen families story acting pro...</td>\n",
       "      <td>1</td>\n",
       "      <td>wonder stori seen famili stori act product val...</td>\n",
       "    </tr>\n",
       "    <tr>\n",
       "      <th>3</th>\n",
       "      <td>0</td>\n",
       "      <td>almost 4 years events 911 asked comes mind day...</td>\n",
       "      <td>1</td>\n",
       "      <td>almost 4 year event 911 ask come mind day peop...</td>\n",
       "    </tr>\n",
       "    <tr>\n",
       "      <th>4</th>\n",
       "      <td>0</td>\n",
       "      <td>pretty clever well-acted version modern 30s wo...</td>\n",
       "      <td>1</td>\n",
       "      <td>pretti clever well-act version modern 30 woman...</td>\n",
       "    </tr>\n",
       "  </tbody>\n",
       "</table>\n",
       "</div>"
      ],
      "text/plain": [
       "   Unnamed: 0                                        Review_Text  isPos  \\\n",
       "0           0  movie excellent save scenes esposito enjoyed b...      1   \n",
       "1           0  take look faces alongside entrance jail they'r...      1   \n",
       "2           0  wonderful story seen families story acting pro...      1   \n",
       "3           0  almost 4 years events 911 asked comes mind day...      1   \n",
       "4           0  pretty clever well-acted version modern 30s wo...      1   \n",
       "\n",
       "                                 Stemmed_Review_Text  \n",
       "0  movi excel save scene esposito enjoy brought t...  \n",
       "1  take look face alongsid entranc jail they'r fa...  \n",
       "2  wonder stori seen famili stori act product val...  \n",
       "3  almost 4 year event 911 ask come mind day peop...  \n",
       "4  pretti clever well-act version modern 30 woman...  "
      ]
     },
     "execution_count": 16,
     "metadata": {},
     "output_type": "execute_result"
    }
   ],
   "source": [
    "testingDF = pd.read_csv(\"testing_corpus.csv\")\n",
    "testingDF.head()"
   ]
  },
  {
   "cell_type": "code",
   "execution_count": 17,
   "metadata": {},
   "outputs": [],
   "source": [
    "tokenizer = BertTokenizer.from_pretrained(\"bert-base-uncased\")"
   ]
  },
  {
   "cell_type": "code",
   "execution_count": 18,
   "metadata": {},
   "outputs": [],
   "source": [
    "from collections import Counter"
   ]
  },
  {
   "cell_type": "code",
   "execution_count": 19,
   "metadata": {},
   "outputs": [
    {
     "data": {
      "text/plain": [
       "0        comment limited generally first season 1959-60...\n",
       "1        writer ever happened baby jane hush hush sweet...\n",
       "2        curious know critics responded rousing inspiri...\n",
       "3        agree mr caruso jr lanzas finest voice god off...\n",
       "4        movie fictional soap opera fast funny say anyt...\n",
       "                               ...                        \n",
       "24995    loved first season quality went little bit sec...\n",
       "24996    overall idea escape atlantis intriguing found ...\n",
       "24997    man movie sucked big time even manage see hole...\n",
       "24998    encompassing virtual reality potential compute...\n",
       "24999    1973 remake classic 1944 billy wilder film dou...\n",
       "Name: Review_Text, Length: 25000, dtype: object"
      ]
     },
     "execution_count": 19,
     "metadata": {},
     "output_type": "execute_result"
    }
   ],
   "source": [
    "trainingDF.Review_Text"
   ]
  },
  {
   "cell_type": "code",
   "execution_count": 20,
   "metadata": {},
   "outputs": [],
   "source": [
    "def word_counter(text):\n",
    "    count = Counter()\n",
    "    for i in text.values:\n",
    "        for word in i.split():\n",
    "            count[word] += 1\n",
    "    return count"
   ]
  },
  {
   "cell_type": "code",
   "execution_count": 21,
   "metadata": {},
   "outputs": [],
   "source": [
    "counter = word_counter(trainingDF.Review_Text)"
   ]
  },
  {
   "cell_type": "code",
   "execution_count": 22,
   "metadata": {},
   "outputs": [
    {
     "data": {
      "text/plain": [
       "157459"
      ]
     },
     "execution_count": 22,
     "metadata": {},
     "output_type": "execute_result"
    }
   ],
   "source": [
    "len(counter)"
   ]
  },
  {
   "cell_type": "code",
   "execution_count": 23,
   "metadata": {},
   "outputs": [],
   "source": [
    "# Skipping validation split\n",
    "train_text = trainingDF[\"Review_Text\"].values\n",
    "test_text = testingDF[\"Review_Text\"].values"
   ]
  },
  {
   "cell_type": "code",
   "execution_count": 24,
   "metadata": {},
   "outputs": [
    {
     "data": {
      "text/plain": [
       "array([\"comment limited generally first season 1959-60<br /><br />this superb series one first televised color highly influential persuading americans buy color television set $800 1959 equivalent $3000 today many us would pay much privilege watching show transmitted cathode ray picture tube 17-inch screen eleven series began watched beginning<br /><br />watching 50 years later several things come mind first many story lines involve comstock lode heyday silver mining dates 1859 1859 weapons clothes part authentic (the haircuts left discussion) that's basically nitpick<br /><br />and would impossible ben arrived lake tahoe area 1839 amassed 100-square mile ranch next twenty years pioneers still trying solve sierra nevada problem late 1847 gold rush even begin two years later<br /><br />indians played native american actors john ford using native american actors 1920s bonanza producers could easily done thirty years later major nitpick me<br /><br />there time-line problems season 1 mark twain appears depicted middle-aged man mark twain 24 years-old 1859 stories also vacillate 1859-1860 (pre-civil war) suitable 1880 time-frame continuity problems over<br /><br />it somewhat off-putting much killing first season time killing reduced<br /><br />many episodes take socially liberal slant would hard believe given time-line give writers credit anticipating seismic shifts nation's attitudes beginning 1960s<br /><br />having said acting good come conclude latter years adam's character drawn better other's think pernell roberts ever got credit deserved also season 1 reinforces fact dan blocker (hoss) good actor<br /><br />many stories trace real historical events guest stars interesting<br /><br />this great family entertainment series stands well measure\",\n",
       "       \"writer ever happened baby jane hush hush sweet charlotte tail-end sixties horror cycle eerie campy fun micheál macliammóir victor buono-type bit often movie totters dangerously close bad musical there's particularly awful children's recital halfway debbie taps tangos tricks lá harlow winters' religious fanatic lesbian edge agnes moorehead checks evangelist weaver nothing - even pay gigolo dance debbie\",\n",
       "       \"curious know critics responded rousing inspiring film went rotten tomatoes dismayed discover pompous peanut gallery nation's film critics given film average 43% (or rotten) rating<br /><br />all say movie move heart (it's interesting note film website got 74% rating viewers)<br /><br />not opinion critics important can't think useless overpaid profession schmo gets paid go movies (what tough life) thing everyone else planet forms opinion chumps way coming across like opinion somehow matters even worse love hate<br /><br />i'll grant movie old fashioned (well except f-bombs) syrupy little predictable know right beginning cuba gooding jr portraying real-life navy hero carl brashear going triumph (eventually) every turn simply way comes across determined plucky strong-willed optimistic<br /><br />but performance de niro (as billy sunday composite character several real-life people) strong inspiring feet cheering many film's scenes especially courtroom climax real stick mud moved scenes like nation's film critics michael rappaport excellent well sweet-natured stuttering diving student befriends gooding's brashear anyone seen higher learning character totally redeems character<br /><br />anyway confirms i've always felt listen critics see movie get inspired\",\n",
       "       ...,\n",
       "       \"man movie sucked big time even manage see hole thing (my girlfriend though) really bad acting computer animations bad laugh (woman werewolf) strange clips list goes know movie remind porn movie mean naked ladys something light something could maybee become classic bad acting naked women original movie white nice plot twist final words see worth time wanna see nakedness there's lots better ones see\",\n",
       "       \"encompassing virtual reality potential computers communication past ongoing struggle express identity constraining society fascinating ada byron lovelace portrayed fascinating tilda swinton film great lousy terrible consider potential acting - aside tilda swinton karen black - veers tolerable atrocious plot construction awkward say least - modern day programmer dull one-note character half movie spent setting character ada finally appears narrate events life present engaging story (swinton almost pulls though) never fully get know real person icon grad student's history paper<br /><br />the digital effects digital dog bird lousy distracting considering 1997 1985 finally script bad bad often pretentious dialog - especially fights programmer boyfriend made squirm - cold distant characters zero attempt create sense wonder programmer successfully contacts person past astonishing hardly seems surprise anyone boyfriend says well careful (although we're given clue later might dangerous never seems actually dangerous)<br /><br />also despite computers ada lovelace love mathematics clear one involved script knowledge mathematics computers - references subjects come across complete mumbo jumbo defies suspension disbelief<br /><br />one scene towards end movie quite good monolog tilda swinton expressing sadness fragility life joy life poignant passionate insightful seems dropped another movie<br /><br />so disappointed movie missed opportunity fascinating little cult film find subject matter interesting might want rent forewarned see orlando another much much better examination gender roles history great tilda swinton performance<br /><br />***spoiler/question * *<br /><br />at end movie ada asks memories preserved (in thought best scene movie) modern day programmer seems anyway transferring memories little girl (hence title movie) correct programmer violated ada's wishes without even struggling another confusing plot point i'm misinterpreting\",\n",
       "       \"1973 remake classic 1944 billy wilder film double indemnity textbook example destroy great script grade-b tv fodder also illustrates folly remakes general hollywood gone greedy executives colorize black-and-white films sought disclaimers wide-screen movies shown pan-and-scan versions industry ignored hacks insist taking classic film diminishing shoddy remake<br /><br />the first step producing bowdlerized version classic edit script billy-wilder-raymond-chandler work cut half hour fit finished film specified time-slot room commercials update production bland color photography smart upscale sets tv-familiar actors thus brand-new double indemnity eliminates atmospheric black-and-white film-noir cinematography enhanced mood characterizations original gone dusty shadowy claustrophobic sets explained protagonists' desires escape situations whatever cost gone close bond keyes neff erotic attraction neff phyllis<br /><br />the look jack smight's take double indemnity dynasty film noir phyllis dietrickson designer home die neff's comfy pad would hard afford insurance salesman's salary mention sporty mercedes convertible drives neither character apparent motive murder paltry $200000 money perhaps murder love lust version richard crenna shows little interest samantha eggar kisses lusty brother sister crenna fails capture cynicism neff attempts double-entendre sexual suggestiveness fall horribly flat eggar little better lacks sensuality depth suggest inner workings supposedly devious manipulative mind lee j cobb manages creditable performance keyes director jack smight three principals done much better work<br /><br />there conceivable reason produce wretched remake except fill time broadcast schedule conceivable reason resurrect dud dvd package original film except fill double-disc package lesson learned misfire even great script great dialog ruined poor casting lackluster direction tv grade production values 1973 double indemnity titled 10% indemnity viewing underscores 100% perfection original movie\"],\n",
       "      dtype=object)"
      ]
     },
     "execution_count": 24,
     "metadata": {},
     "output_type": "execute_result"
    }
   ],
   "source": [
    "train_text"
   ]
  },
  {
   "cell_type": "code",
   "execution_count": 25,
   "metadata": {},
   "outputs": [],
   "source": [
    "train_labels = trainingDF[\"isPos\"].values\n",
    "test_labels = testingDF[\"isPos\"].values"
   ]
  },
  {
   "cell_type": "code",
   "execution_count": 26,
   "metadata": {},
   "outputs": [],
   "source": [
    "# NOTE DID NOT USE STEMMED TEXT \n",
    "train_encodings = tokenizer(list(train_text), truncation = True, padding = True)\n",
    "test_encodings = tokenizer(list(test_text), truncation = True, padding = True)"
   ]
  },
  {
   "cell_type": "code",
   "execution_count": 9,
   "metadata": {},
   "outputs": [
    {
     "data": {
      "text/plain": [
       "30522"
      ]
     },
     "execution_count": 9,
     "metadata": {},
     "output_type": "execute_result"
    }
   ],
   "source": [
    "len(tokenizer)"
   ]
  },
  {
   "cell_type": "code",
   "execution_count": 27,
   "metadata": {},
   "outputs": [],
   "source": [
    "class ReviewDataset(torch.utils.data.Dataset):\n",
    "    def __init__(self, encodings, labels):\n",
    "        self.encodings = encodings\n",
    "        self.labels = labels\n",
    "    \n",
    "    def __getitem__(self, idx):\n",
    "        item = {key: torch.tensor(val[idx]) for key, val in self.encodings.items()}\n",
    "        item[\"labels\"] = torch.tensor(self.labels[idx])\n",
    "        return item\n",
    "    \n",
    "    def __len__(self):\n",
    "        return len(self.labels)"
   ]
  },
  {
   "cell_type": "code",
   "execution_count": 28,
   "metadata": {},
   "outputs": [],
   "source": [
    "train_dataset = ReviewDataset(train_encodings, train_labels)\n",
    "test_dataset = ReviewDataset(test_encodings, test_labels)"
   ]
  },
  {
   "cell_type": "code",
   "execution_count": 13,
   "metadata": {},
   "outputs": [],
   "source": [
    "#train_dataset[24000][\"input_ids\"].size()"
   ]
  },
  {
   "cell_type": "code",
   "execution_count": 29,
   "metadata": {},
   "outputs": [],
   "source": [
    "train_loader = torch.utils.data.DataLoader(train_dataset, batch_size=25, shuffle=True)\n",
    "test_loader = torch.utils.data.DataLoader(test_dataset, batch_size=25, shuffle=False)"
   ]
  },
  {
   "cell_type": "code",
   "execution_count": 30,
   "metadata": {},
   "outputs": [],
   "source": [
    "import torch\n",
    "import torch.nn as nn\n",
    "import matplotlib.pyplot as plt"
   ]
  },
  {
   "cell_type": "code",
   "execution_count": 46,
   "metadata": {},
   "outputs": [],
   "source": [
    "class RNN(nn.Module):\n",
    "    def __init__(self, input_dim, embedding_dim, hidden_dim, output_dim):\n",
    "        super().__init__()\n",
    "\n",
    "        self.embedding = torch.nn.Embedding(input_dim, embedding_dim)\n",
    "        self.rnn = torch.nn.LSTM(embedding_dim, hidden_dim, batch_first=True)\n",
    "        self.fc = torch.nn.Linear(hidden_dim, output_dim)\n",
    "\n",
    "    def forward(self, text):\n",
    "        embedded = self.embedding(text)\n",
    "        output, (hidden, cell) = self.rnn(embedded)\n",
    "        #print(output.shape)\n",
    "        hidden.squeeze_(0)\n",
    "        output = self.fc(hidden)\n",
    "        return output"
   ]
  },
  {
   "cell_type": "code",
   "execution_count": 56,
   "metadata": {},
   "outputs": [],
   "source": [
    "class RNN(nn.Module):\n",
    "    def __init__(self, input_size, hidden_size, num_layers, num_classes):\n",
    "        super(RNN, self).__init__()\n",
    "        self.num_layers = num_layers\n",
    "        self.hidden_size = hidden_size\n",
    "        self.rnn = nn.RNN(input_size, hidden_size, num_layers, batch_first=True)\n",
    "        self.fc = nn.Linear(hidden_size, num_classes)\n",
    "        # x-> (batch_size, seq, feature)\n",
    "\n",
    "    def forward(self, x):\n",
    "        h0 = torch.zeros(x.size(0), self.hidden_size)\n",
    "        print(x.dtype)\n",
    "        print(h0.dtype)\n",
    "        \n",
    "        out, _ = self.rnn(x, h0)\n",
    "        #print(out)\n",
    "        out = out[:, -1, :]\n",
    "        print(out)\n",
    "        out = self.fc(out)\n",
    "        return out"
   ]
  },
  {
   "cell_type": "code",
   "execution_count": 57,
   "metadata": {},
   "outputs": [],
   "source": [
    "model = RNN(input_size=512, hidden_size=128, num_layers=25, num_classes=2)"
   ]
  },
  {
   "cell_type": "code",
   "execution_count": 58,
   "metadata": {},
   "outputs": [],
   "source": [
    "criterion = nn.BCELoss()\n",
    "optimizer = torch.optim.Adam(model.parameters(), lr=0.005)"
   ]
  },
  {
   "cell_type": "code",
   "execution_count": 59,
   "metadata": {},
   "outputs": [
    {
     "name": "stdout",
     "output_type": "stream",
     "text": [
      "torch.int64\n",
      "torch.float32\n"
     ]
    },
    {
     "ename": "RuntimeError",
     "evalue": "mat1 and mat2 must have the same dtype",
     "output_type": "error",
     "traceback": [
      "\u001b[0;31m---------------------------------------------------------------------------\u001b[0m",
      "\u001b[0;31mRuntimeError\u001b[0m                              Traceback (most recent call last)",
      "\u001b[0;32m/tmp/ipykernel_52568/1235854827.py\u001b[0m in \u001b[0;36m<module>\u001b[0;34m\u001b[0m\n\u001b[1;32m      9\u001b[0m \u001b[0;34m\u001b[0m\u001b[0m\n\u001b[1;32m     10\u001b[0m         \u001b[0;31m#break\u001b[0m\u001b[0;34m\u001b[0m\u001b[0;34m\u001b[0m\u001b[0m\n\u001b[0;32m---> 11\u001b[0;31m         \u001b[0moutputs\u001b[0m \u001b[0;34m=\u001b[0m \u001b[0mmodel\u001b[0m\u001b[0;34m(\u001b[0m\u001b[0mtext\u001b[0m\u001b[0;34m)\u001b[0m\u001b[0;34m\u001b[0m\u001b[0;34m\u001b[0m\u001b[0m\n\u001b[0m\u001b[1;32m     12\u001b[0m         \u001b[0;31m#print(text)\u001b[0m\u001b[0;34m\u001b[0m\u001b[0;34m\u001b[0m\u001b[0m\n\u001b[1;32m     13\u001b[0m         \u001b[0;31m#print(outputs.dim())\u001b[0m\u001b[0;34m\u001b[0m\u001b[0;34m\u001b[0m\u001b[0m\n",
      "\u001b[0;32m~/anaconda3/lib/python3.9/site-packages/torch/nn/modules/module.py\u001b[0m in \u001b[0;36m_call_impl\u001b[0;34m(self, *input, **kwargs)\u001b[0m\n\u001b[1;32m   1192\u001b[0m         if not (self._backward_hooks or self._forward_hooks or self._forward_pre_hooks or _global_backward_hooks\n\u001b[1;32m   1193\u001b[0m                 or _global_forward_hooks or _global_forward_pre_hooks):\n\u001b[0;32m-> 1194\u001b[0;31m             \u001b[0;32mreturn\u001b[0m \u001b[0mforward_call\u001b[0m\u001b[0;34m(\u001b[0m\u001b[0;34m*\u001b[0m\u001b[0minput\u001b[0m\u001b[0;34m,\u001b[0m \u001b[0;34m**\u001b[0m\u001b[0mkwargs\u001b[0m\u001b[0;34m)\u001b[0m\u001b[0;34m\u001b[0m\u001b[0;34m\u001b[0m\u001b[0m\n\u001b[0m\u001b[1;32m   1195\u001b[0m         \u001b[0;31m# Do not call functions when jit is used\u001b[0m\u001b[0;34m\u001b[0m\u001b[0;34m\u001b[0m\u001b[0m\n\u001b[1;32m   1196\u001b[0m         \u001b[0mfull_backward_hooks\u001b[0m\u001b[0;34m,\u001b[0m \u001b[0mnon_full_backward_hooks\u001b[0m \u001b[0;34m=\u001b[0m \u001b[0;34m[\u001b[0m\u001b[0;34m]\u001b[0m\u001b[0;34m,\u001b[0m \u001b[0;34m[\u001b[0m\u001b[0;34m]\u001b[0m\u001b[0;34m\u001b[0m\u001b[0;34m\u001b[0m\u001b[0m\n",
      "\u001b[0;32m/tmp/ipykernel_52568/1778545934.py\u001b[0m in \u001b[0;36mforward\u001b[0;34m(self, x)\u001b[0m\n\u001b[1;32m     13\u001b[0m         \u001b[0mprint\u001b[0m\u001b[0;34m(\u001b[0m\u001b[0mh0\u001b[0m\u001b[0;34m.\u001b[0m\u001b[0mdtype\u001b[0m\u001b[0;34m)\u001b[0m\u001b[0;34m\u001b[0m\u001b[0;34m\u001b[0m\u001b[0m\n\u001b[1;32m     14\u001b[0m \u001b[0;34m\u001b[0m\u001b[0m\n\u001b[0;32m---> 15\u001b[0;31m         \u001b[0mout\u001b[0m\u001b[0;34m,\u001b[0m \u001b[0m_\u001b[0m \u001b[0;34m=\u001b[0m \u001b[0mself\u001b[0m\u001b[0;34m.\u001b[0m\u001b[0mrnn\u001b[0m\u001b[0;34m(\u001b[0m\u001b[0mx\u001b[0m\u001b[0;34m,\u001b[0m \u001b[0mh0\u001b[0m\u001b[0;34m)\u001b[0m\u001b[0;34m\u001b[0m\u001b[0;34m\u001b[0m\u001b[0m\n\u001b[0m\u001b[1;32m     16\u001b[0m         \u001b[0;31m#print(out)\u001b[0m\u001b[0;34m\u001b[0m\u001b[0;34m\u001b[0m\u001b[0m\n\u001b[1;32m     17\u001b[0m         \u001b[0mout\u001b[0m \u001b[0;34m=\u001b[0m \u001b[0mout\u001b[0m\u001b[0;34m[\u001b[0m\u001b[0;34m:\u001b[0m\u001b[0;34m,\u001b[0m \u001b[0;34m-\u001b[0m\u001b[0;36m1\u001b[0m\u001b[0;34m,\u001b[0m \u001b[0;34m:\u001b[0m\u001b[0;34m]\u001b[0m\u001b[0;34m\u001b[0m\u001b[0;34m\u001b[0m\u001b[0m\n",
      "\u001b[0;32m~/anaconda3/lib/python3.9/site-packages/torch/nn/modules/module.py\u001b[0m in \u001b[0;36m_call_impl\u001b[0;34m(self, *input, **kwargs)\u001b[0m\n\u001b[1;32m   1192\u001b[0m         if not (self._backward_hooks or self._forward_hooks or self._forward_pre_hooks or _global_backward_hooks\n\u001b[1;32m   1193\u001b[0m                 or _global_forward_hooks or _global_forward_pre_hooks):\n\u001b[0;32m-> 1194\u001b[0;31m             \u001b[0;32mreturn\u001b[0m \u001b[0mforward_call\u001b[0m\u001b[0;34m(\u001b[0m\u001b[0;34m*\u001b[0m\u001b[0minput\u001b[0m\u001b[0;34m,\u001b[0m \u001b[0;34m**\u001b[0m\u001b[0mkwargs\u001b[0m\u001b[0;34m)\u001b[0m\u001b[0;34m\u001b[0m\u001b[0;34m\u001b[0m\u001b[0m\n\u001b[0m\u001b[1;32m   1195\u001b[0m         \u001b[0;31m# Do not call functions when jit is used\u001b[0m\u001b[0;34m\u001b[0m\u001b[0;34m\u001b[0m\u001b[0m\n\u001b[1;32m   1196\u001b[0m         \u001b[0mfull_backward_hooks\u001b[0m\u001b[0;34m,\u001b[0m \u001b[0mnon_full_backward_hooks\u001b[0m \u001b[0;34m=\u001b[0m \u001b[0;34m[\u001b[0m\u001b[0;34m]\u001b[0m\u001b[0;34m,\u001b[0m \u001b[0;34m[\u001b[0m\u001b[0;34m]\u001b[0m\u001b[0;34m\u001b[0m\u001b[0;34m\u001b[0m\u001b[0m\n",
      "\u001b[0;32m~/anaconda3/lib/python3.9/site-packages/torch/nn/modules/rnn.py\u001b[0m in \u001b[0;36mforward\u001b[0;34m(self, input, hx)\u001b[0m\n\u001b[1;32m    474\u001b[0m         \u001b[0;32mif\u001b[0m \u001b[0mbatch_sizes\u001b[0m \u001b[0;32mis\u001b[0m \u001b[0;32mNone\u001b[0m\u001b[0;34m:\u001b[0m\u001b[0;34m\u001b[0m\u001b[0;34m\u001b[0m\u001b[0m\n\u001b[1;32m    475\u001b[0m             \u001b[0;32mif\u001b[0m \u001b[0mself\u001b[0m\u001b[0;34m.\u001b[0m\u001b[0mmode\u001b[0m \u001b[0;34m==\u001b[0m \u001b[0;34m'RNN_TANH'\u001b[0m\u001b[0;34m:\u001b[0m\u001b[0;34m\u001b[0m\u001b[0;34m\u001b[0m\u001b[0m\n\u001b[0;32m--> 476\u001b[0;31m                 result = _VF.rnn_tanh(input, hx, self._flat_weights, self.bias, self.num_layers,\n\u001b[0m\u001b[1;32m    477\u001b[0m                                       \u001b[0mself\u001b[0m\u001b[0;34m.\u001b[0m\u001b[0mdropout\u001b[0m\u001b[0;34m,\u001b[0m \u001b[0mself\u001b[0m\u001b[0;34m.\u001b[0m\u001b[0mtraining\u001b[0m\u001b[0;34m,\u001b[0m \u001b[0mself\u001b[0m\u001b[0;34m.\u001b[0m\u001b[0mbidirectional\u001b[0m\u001b[0;34m,\u001b[0m\u001b[0;34m\u001b[0m\u001b[0;34m\u001b[0m\u001b[0m\n\u001b[1;32m    478\u001b[0m                                       self.batch_first)\n",
      "\u001b[0;31mRuntimeError\u001b[0m: mat1 and mat2 must have the same dtype"
     ]
    }
   ],
   "source": [
    "n_total_steps = len(train_loader)\n",
    "num_epochs = 1\n",
    "for epoch in range(num_epochs):\n",
    "    for i, sample in enumerate(train_loader):\n",
    "        text = sample[\"input_ids\"]\n",
    "        label = sample[\"labels\"]\n",
    "        #print(text.shape)\n",
    "        #print(label.shape)\n",
    "        \n",
    "        #break\n",
    "        outputs = model(text)\n",
    "        #print(text)\n",
    "        #print(outputs.dim())\n",
    "        loss = criterion(outputs, label)\n",
    "\n",
    "        optimizer.zero_grad()\n",
    "        loss.backward()\n",
    "        optimizer.step()\n",
    "\n",
    "        if (i+1) % 100 == 0:\n",
    "            print(\"Epoch \" + str(((epoch+1)/num_epochs)) + \"Step \" + str((i+1)/n_total_steps) + \", Loss: \" + str(loss.item()))\n",
    "    #break"
   ]
  },
  {
   "cell_type": "code",
   "execution_count": null,
   "metadata": {},
   "outputs": [],
   "source": []
  }
 ],
 "metadata": {
  "kernelspec": {
   "display_name": "base",
   "language": "python",
   "name": "python3"
  },
  "language_info": {
   "codemirror_mode": {
    "name": "ipython",
    "version": 3
   },
   "file_extension": ".py",
   "mimetype": "text/x-python",
   "name": "python",
   "nbconvert_exporter": "python",
   "pygments_lexer": "ipython3",
   "version": "3.9.16"
  },
  "orig_nbformat": 4,
  "vscode": {
   "interpreter": {
    "hash": "49f6107ad89c9c7fd79771d3dfcfde8fadaa90041805bc57f3ce6040a6e5d26c"
   }
  }
 },
 "nbformat": 4,
 "nbformat_minor": 2
}
