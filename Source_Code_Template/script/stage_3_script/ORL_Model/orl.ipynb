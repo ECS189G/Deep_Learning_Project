{
 "cells": [
  {
   "cell_type": "code",
   "execution_count": 1,
   "metadata": {},
   "outputs": [],
   "source": [
    "import pickle\n",
    "import matplotlib.pyplot as plt"
   ]
  },
  {
   "cell_type": "code",
   "execution_count": 2,
   "metadata": {},
   "outputs": [],
   "source": [
    "def loader(filename):\n",
    "    f = open(filename, \"rb\")\n",
    "    data = pickle.load(f)\n",
    "    f.close()\n",
    "    print(\"Training Set Size:\", len(data[\"train\"]))\n",
    "    print(\"Testing Set Size:\", len(data[\"test\"]))\n",
    "    return data"
   ]
  },
  {
   "cell_type": "code",
   "execution_count": 12,
   "metadata": {},
   "outputs": [
    {
     "name": "stdout",
     "output_type": "stream",
     "text": [
      "Training Set Size: 360\n",
      "Testing Set Size: 40\n"
     ]
    }
   ],
   "source": [
    "data = loader(\"ORL\")"
   ]
  },
  {
   "cell_type": "code",
   "execution_count": 11,
   "metadata": {},
   "outputs": [
    {
     "data": {
      "text/plain": [
       "40"
      ]
     },
     "execution_count": 11,
     "metadata": {},
     "output_type": "execute_result"
    }
   ],
   "source": [
    "data[\"train\"][359][\"label\"]"
   ]
  },
  {
   "cell_type": "code",
   "execution_count": 15,
   "metadata": {},
   "outputs": [],
   "source": [
    "import torch\n",
    "import torch.nn.functional as func\n",
    "def tloader(x_train, y_train, x_test, y_test, data):\n",
    "    # Convert data into tensors\n",
    "    #x_train = []\n",
    "    for i in range(len(data[\"train\"])):\n",
    "        temp = data[\"train\"][i][\"image\"]\n",
    "        result = temp[:, :, 0]\n",
    "        x_train.append(torch.FloatTensor(result))\n",
    "\n",
    "    x_train = torch.stack(x_train)\n",
    "    print(x_train.shape)\n",
    "\n",
    "    #result = x_test[:, :, 0]\n",
    "    #print(result[3])\n",
    "    #print(result.shape)\n",
    "    '''\n",
    "    print(new_train.shape)\n",
    "    print(type(x_train))\n",
    "    #print(type(x_train[0]))\n",
    "    print(x_train.shape)\n",
    "\n",
    "    #y_train = []\n",
    "    for j in range(len(data[\"train\"])):\n",
    "        y_train.append(data[\"train\"][j][\"label\"])\n",
    "\n",
    "    y_train = torch.Tensor(y_train)\n",
    "    print(type(y_train))\n",
    "    #print(type(y_train[0]))\n",
    "    print(y_train.shape)\n",
    "\n",
    "    #x_test = []\n",
    "    for a in range(len(data[\"test\"])):\n",
    "        x_test.append(torch.FloatTensor(data[\"test\"][a][\"image\"]))\n",
    "\n",
    "    x_test = torch.stack(x_test)\n",
    "\n",
    "    #print(type(x_train))\n",
    "    #print(type(x_train[0]))\n",
    "    #print(x_train.shape)\n",
    "\n",
    "    #y_test = []\n",
    "    for b in range(len(data[\"test\"])):\n",
    "        y_test.append(data[\"test\"][b][\"label\"])\n",
    "\n",
    "    y_test = torch.Tensor(y_test)\n",
    "    #y_train = func.one_hot(y_train.long(), num_classes=10)\n",
    "    '''\n",
    "    return x_train#, y_train, x_test, y_test"
   ]
  },
  {
   "cell_type": "code",
   "execution_count": 16,
   "metadata": {},
   "outputs": [
    {
     "name": "stdout",
     "output_type": "stream",
     "text": [
      "torch.Size([360, 112, 92])\n"
     ]
    },
    {
     "data": {
      "text/plain": [
       "tensor([[[ 48.,  49.,  45.,  ...,  56.,  56.,  54.],\n",
       "         [ 45.,  52.,  39.,  ...,  52.,  50.,  51.],\n",
       "         [ 45.,  50.,  42.,  ...,  48.,  53.,  50.],\n",
       "         ...,\n",
       "         [ 50.,  48.,  50.,  ...,  45.,  46.,  46.],\n",
       "         [ 45.,  54.,  49.,  ...,  46.,  47.,  47.],\n",
       "         [ 51.,  51.,  51.,  ...,  47.,  46.,  46.]],\n",
       "\n",
       "        [[ 60.,  60.,  62.,  ...,  40.,  53.,  46.],\n",
       "         [ 58.,  73.,  54.,  ...,  34.,  50.,  51.],\n",
       "         [ 68.,  77.,  80.,  ...,  36.,  50.,  49.],\n",
       "         ...,\n",
       "         [ 24., 143., 160.,  ...,  34.,  33.,  33.],\n",
       "         [ 18., 136., 161.,  ...,  36.,  36.,  31.],\n",
       "         [  9., 111., 168.,  ...,  32.,  34.,  34.]],\n",
       "\n",
       "        [[ 39.,  44.,  53.,  ...,  47.,  48.,  47.],\n",
       "         [ 44.,  44.,  61.,  ...,  47.,  45.,  46.],\n",
       "         [ 59.,  39.,  57.,  ...,  46.,  46.,  44.],\n",
       "         ...,\n",
       "         [ 49.,  46.,  42.,  ...,  30.,  32.,  28.],\n",
       "         [ 46.,  35.,  34.,  ...,  30.,  29.,  27.],\n",
       "         [ 32.,  37.,  27.,  ...,  29.,  26.,  29.]],\n",
       "\n",
       "        ...,\n",
       "\n",
       "        [[129., 127., 133.,  ..., 122., 124., 124.],\n",
       "         [130., 128., 126.,  ..., 123., 124., 122.],\n",
       "         [127., 126., 132.,  ..., 123., 123., 126.],\n",
       "         ...,\n",
       "         [ 69.,  72.,  71.,  ...,  90.,  90.,  95.],\n",
       "         [ 70.,  69.,  71.,  ...,  92.,  93.,  92.],\n",
       "         [ 74.,  69.,  72.,  ...,  93.,  93.,  93.]],\n",
       "\n",
       "        [[125., 119., 124.,  ..., 122., 120., 116.],\n",
       "         [121., 124., 118.,  ..., 119., 120., 120.],\n",
       "         [122., 125., 122.,  ..., 121., 118., 121.],\n",
       "         ...,\n",
       "         [ 85.,  93.,  82.,  ...,  48.,  35.,  43.],\n",
       "         [ 87.,  92.,  85.,  ...,  40.,  39.,  35.],\n",
       "         [ 79.,  93.,  89.,  ...,  36.,  39.,  40.]],\n",
       "\n",
       "        [[119., 120., 120.,  ..., 129., 128., 124.],\n",
       "         [118., 121., 120.,  ..., 126., 124., 127.],\n",
       "         [120., 119., 118.,  ..., 121., 128., 127.],\n",
       "         ...,\n",
       "         [ 64.,  61.,  64.,  ...,  89.,  92.,  88.],\n",
       "         [ 64.,  63.,  58.,  ...,  93.,  90.,  92.],\n",
       "         [ 65.,  61.,  63.,  ...,  89.,  94.,  85.]]])"
      ]
     },
     "execution_count": 16,
     "metadata": {},
     "output_type": "execute_result"
    }
   ],
   "source": [
    "x_train = []\n",
    "y_train = []\n",
    "x_test = []\n",
    "y_test = []\n",
    "\n",
    "tloader(x_train, y_train, x_test, y_test, data)"
   ]
  },
  {
   "cell_type": "code",
   "execution_count": null,
   "metadata": {},
   "outputs": [],
   "source": []
  }
 ],
 "metadata": {
  "kernelspec": {
   "display_name": "base",
   "language": "python",
   "name": "python3"
  },
  "language_info": {
   "codemirror_mode": {
    "name": "ipython",
    "version": 3
   },
   "file_extension": ".py",
   "mimetype": "text/x-python",
   "name": "python",
   "nbconvert_exporter": "python",
   "pygments_lexer": "ipython3",
   "version": "3.9.16"
  },
  "orig_nbformat": 4,
  "vscode": {
   "interpreter": {
    "hash": "49f6107ad89c9c7fd79771d3dfcfde8fadaa90041805bc57f3ce6040a6e5d26c"
   }
  }
 },
 "nbformat": 4,
 "nbformat_minor": 2
}
