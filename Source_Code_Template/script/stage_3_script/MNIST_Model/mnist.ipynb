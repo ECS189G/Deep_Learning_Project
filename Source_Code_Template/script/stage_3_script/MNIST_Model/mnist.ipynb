{
 "cells": [
  {
   "cell_type": "code",
   "execution_count": 2,
   "metadata": {},
   "outputs": [],
   "source": [
    "import torch\n",
    "import torchvision\n",
    "import torch.nn as nn\n",
    "from torchvision import transforms\n",
    "from torchvision.datasets import ImageFolder\n",
    "import numpy\n",
    "import torch.nn.functional as func"
   ]
  },
  {
   "cell_type": "code",
   "execution_count": 3,
   "metadata": {},
   "outputs": [
    {
     "name": "stdout",
     "output_type": "stream",
     "text": [
      "Training Set Size: 60000\n",
      "Testing Set Size: 10000\n"
     ]
    }
   ],
   "source": [
    "import pickle\n",
    "import matplotlib.pyplot as plt\n",
    "\n",
    "f = open(\"MNIST\", \"rb\")\n",
    "data = pickle.load(f)\n",
    "f.close()\n",
    "print(\"Training Set Size:\", len(data[\"train\"]))\n",
    "print(\"Testing Set Size:\", len(data[\"test\"]))\n",
    "\n",
    "\n",
    "#plt.imshow(data[\"train\"][0][\"image\"], cmap=\"Greys\")\n",
    "#plt.colorbar()\n",
    "#plt.show()"
   ]
  },
  {
   "cell_type": "code",
   "execution_count": 4,
   "metadata": {},
   "outputs": [
    {
     "data": {
      "text/plain": [
       "numpy.ndarray"
      ]
     },
     "execution_count": 4,
     "metadata": {},
     "output_type": "execute_result"
    }
   ],
   "source": [
    "type(data[\"train\"][0][\"image\"])"
   ]
  },
  {
   "cell_type": "code",
   "execution_count": 5,
   "metadata": {},
   "outputs": [],
   "source": [
    "# Convert data into tensors\n",
    "x_train = []\n",
    "for i in range(len(data[\"train\"])):\n",
    "    x_train.append(torch.FloatTensor(data[\"train\"][i][\"image\"]))\n",
    "\n",
    "x_train = torch.stack(x_train)\n",
    "\n",
    "#print(type(x_train))\n",
    "#print(type(x_train[0]))\n",
    "#print(x_train.shape)\n",
    "\n",
    "y_train = []\n",
    "for j in range(len(data[\"train\"])):\n",
    "    y_train.append(data[\"train\"][j][\"label\"])\n",
    "\n",
    "y_train = torch.Tensor(y_train)\n",
    "#print(type(y_train))\n",
    "#print(type(y_train[0]))\n",
    "#print(y_train.shape)\n",
    "\n",
    "x_test = []\n",
    "for a in range(len(data[\"test\"])):\n",
    "    x_test.append(torch.FloatTensor(data[\"test\"][a][\"image\"]))\n",
    "\n",
    "x_test = torch.stack(x_test)\n",
    "\n",
    "#print(type(x_train))\n",
    "#print(type(x_train[0]))\n",
    "#print(x_train.shape)\n",
    "\n",
    "y_test = []\n",
    "for b in range(len(data[\"test\"])):\n",
    "    y_test.append(data[\"test\"][b][\"label\"])\n",
    "\n",
    "y_test = torch.Tensor(y_test)\n"
   ]
  },
  {
   "cell_type": "code",
   "execution_count": 6,
   "metadata": {},
   "outputs": [],
   "source": [
    "#y_train = func.one_hot(y_train.long(), num_classes=10)\n",
    "#y_train.shape"
   ]
  },
  {
   "cell_type": "code",
   "execution_count": 7,
   "metadata": {},
   "outputs": [
    {
     "data": {
      "text/plain": [
       "tensor([5., 0., 4.,  ..., 5., 6., 8.])"
      ]
     },
     "execution_count": 7,
     "metadata": {},
     "output_type": "execute_result"
    }
   ],
   "source": [
    "y_train"
   ]
  },
  {
   "cell_type": "code",
   "execution_count": 8,
   "metadata": {},
   "outputs": [
    {
     "data": {
      "text/plain": [
       "torch.Size([28, 28])"
      ]
     },
     "execution_count": 8,
     "metadata": {},
     "output_type": "execute_result"
    }
   ],
   "source": [
    "x_train[0].shape"
   ]
  },
  {
   "cell_type": "code",
   "execution_count": 9,
   "metadata": {},
   "outputs": [],
   "source": [
    "from torch.utils.data import Dataset, DataLoader\n",
    "\n",
    "class TensorDataset(Dataset):\n",
    "    def __init__(self, x, y):\n",
    "        # Init\n",
    "        self.x = x\n",
    "        self.y = y\n",
    "\n",
    "        # Normalize between 0 and 1\n",
    "        self.x = self.x / 255.\n",
    "\n",
    "        #One Hot Encoding\n",
    "        self.y = func.one_hot(self.y.long(), num_classes=10).to(float)\n",
    "    \n",
    "    def __getitem__(self, index):\n",
    "        return self.x[index], self.y[index]\n",
    "    \n",
    "    def __len__(self):\n",
    "        return self.x.shape[0]"
   ]
  },
  {
   "cell_type": "code",
   "execution_count": 10,
   "metadata": {},
   "outputs": [],
   "source": [
    "trainingDS = TensorDataset(x_train, y_train)\n",
    "testingDS = TensorDataset(x_test, y_test)"
   ]
  },
  {
   "cell_type": "code",
   "execution_count": 11,
   "metadata": {},
   "outputs": [],
   "source": [
    "trainingDL = DataLoader(trainingDS, batch_size=20)\n",
    "testingDL = DataLoader(testingDS, batch_size=20)"
   ]
  },
  {
   "cell_type": "code",
   "execution_count": 12,
   "metadata": {},
   "outputs": [],
   "source": [
    "class CNN(nn.Module):\n",
    "    def __init__(self):\n",
    "        super().__init__()\n",
    "        self.Matrix1 = nn.Linear(28**2, 256)\n",
    "        self.Matrix2 = nn.Linear(256, 128)\n",
    "        self.Matrix3 = nn.Linear(128,64)\n",
    "        self.Matrix4 = nn.Linear(64, 10)\n",
    "        self.R = nn.ReLU()\n",
    "    def forward(self, x):\n",
    "        x = x.view(-1, 28**2)\n",
    "        x = self.R(self.Matrix1(x))\n",
    "        x = self.R(self.Matrix2(x))\n",
    "        x = self.R(self.Matrix3(x))\n",
    "        x = self.Matrix4(x)\n",
    "        return x.squeeze()"
   ]
  },
  {
   "cell_type": "code",
   "execution_count": 13,
   "metadata": {},
   "outputs": [],
   "source": [
    "f = CNN()"
   ]
  },
  {
   "cell_type": "code",
   "execution_count": 14,
   "metadata": {},
   "outputs": [],
   "source": [
    "import numpy as np\n",
    "from torch.optim import SGD\n",
    "\n",
    "def train_model(trainingDL, f, n_epochs=20):\n",
    "    opt = SGD(f.parameters(), lr=0.01)\n",
    "    L = nn.CrossEntropyLoss()\n",
    "\n",
    "    losses = []\n",
    "    epochs = []\n",
    "\n",
    "    for epoch in range(n_epochs):\n",
    "        print(f'Epoch {epoch}')\n",
    "        N = len(trainingDL)\n",
    "        for i, (x, y) in enumerate(trainingDL):\n",
    "            opt.zero_grad()\n",
    "            loss_value = L(f(x), y)\n",
    "            loss_value.backward()\n",
    "            opt.step()\n",
    "            \n",
    "            epochs.append(epoch+i/N)\n",
    "            losses.append(loss_value.item())\n",
    "    return np.array(epochs), np.array(losses)"
   ]
  },
  {
   "cell_type": "code",
   "execution_count": 15,
   "metadata": {},
   "outputs": [
    {
     "name": "stdout",
     "output_type": "stream",
     "text": [
      "Epoch 0\n",
      "Epoch 1\n",
      "Epoch 2\n",
      "Epoch 3\n",
      "Epoch 4\n",
      "Epoch 5\n",
      "Epoch 6\n",
      "Epoch 7\n",
      "Epoch 8\n",
      "Epoch 9\n",
      "Epoch 10\n",
      "Epoch 11\n",
      "Epoch 12\n",
      "Epoch 13\n",
      "Epoch 14\n",
      "Epoch 15\n",
      "Epoch 16\n",
      "Epoch 17\n",
      "Epoch 18\n",
      "Epoch 19\n"
     ]
    }
   ],
   "source": [
    "epoch_data, loss_data = train_model(trainingDL, f)"
   ]
  },
  {
   "cell_type": "code",
   "execution_count": 16,
   "metadata": {},
   "outputs": [
    {
     "data": {
      "text/plain": [
       "Text(0.5, 1.0, 'Cross Entropy (per batch)')"
      ]
     },
     "execution_count": 16,
     "metadata": {},
     "output_type": "execute_result"
    },
    {
     "data": {
      "image/png": "[encoded data removed]",
      "text/plain": [
       "<Figure size 640x480 with 1 Axes>"
      ]
     },
     "metadata": {},
     "output_type": "display_data"
    }
   ],
   "source": [
    "plt.plot(epoch_data, loss_data)\n",
    "plt.xlabel(\"Epoch Num\")\n",
    "plt.ylabel(\"Cross Entropy\")\n",
    "plt.title(\"Cross Entropy (per batch)\")"
   ]
  },
  {
   "cell_type": "code",
   "execution_count": 17,
   "metadata": {},
   "outputs": [],
   "source": [
    "epoch_data_avgd = epoch_data.reshape(20,-1).mean(axis=1)\n",
    "loss_data_avgd = loss_data.reshape(20,-1).mean(axis=1)"
   ]
  },
  {
   "cell_type": "code",
   "execution_count": 18,
   "metadata": {},
   "outputs": [
    {
     "data": {
      "text/plain": [
       "Text(0.5, 1.0, 'Cross Entropy (avg per epoch)')"
      ]
     },
     "execution_count": 18,
     "metadata": {},
     "output_type": "execute_result"
    },
    {
     "data": {
      "image/png": "[encoded data removed]",
      "text/plain": [
       "<Figure size 640x480 with 1 Axes>"
      ]
     },
     "metadata": {},
     "output_type": "display_data"
    }
   ],
   "source": [
    "plt.plot(epoch_data_avgd, loss_data_avgd, \"o--\")\n",
    "plt.xlabel(\"Epoch Number\")\n",
    "plt.ylabel(\"Cross Entropy\")\n",
    "plt.title(\"Cross Entropy (avg per epoch)\")"
   ]
  },
  {
   "cell_type": "code",
   "execution_count": 19,
   "metadata": {},
   "outputs": [
    {
     "data": {
      "text/plain": [
       "tensor([0., 0., 0., 0., 0., 1., 0., 0., 0., 0.], dtype=torch.float64)"
      ]
     },
     "execution_count": 19,
     "metadata": {},
     "output_type": "execute_result"
    }
   ],
   "source": [
    "trainingDS[0][1]"
   ]
  },
  {
   "cell_type": "code",
   "execution_count": 23,
   "metadata": {},
   "outputs": [
    {
     "data": {
      "text/plain": [
       "tensor([ -1.2338,  -1.4464,  -2.1276,  17.5950, -17.4739,  20.7827, -10.5314,\n",
       "         -4.3041,   1.5294,   3.1869], grad_fn=<SqueezeBackward0>)"
      ]
     },
     "execution_count": 23,
     "metadata": {},
     "output_type": "execute_result"
    }
   ],
   "source": [
    "x_sample = trainingDS[0][0]\n",
    "yhat_sample = f(x_sample)\n",
    "yhat_sample"
   ]
  },
  {
   "cell_type": "code",
   "execution_count": 21,
   "metadata": {},
   "outputs": [
    {
     "data": {
      "text/plain": [
       "tensor(5)"
      ]
     },
     "execution_count": 21,
     "metadata": {},
     "output_type": "execute_result"
    }
   ],
   "source": [
    "torch.argmax(yhat_sample)"
   ]
  },
  {
   "cell_type": "code",
   "execution_count": 24,
   "metadata": {},
   "outputs": [],
   "source": [
    "class Net(torch.nn.Module):\n",
    "    def __init__(self):\n",
    "        super(Net, self).__init__()\n",
    "        self.conv1 = torch.nn.Conv2d(1,6,5)\n",
    "        self.pool = torch.nn.MaxPool2d(2,2)\n",
    "        self.conv2 = torch.nn.Conv2d(6, 16, 5)\n",
    "        self.fc1 = torch.nn.Linear(16*4*4, 120)\n",
    "        self.fc2 = torch.nn.Linear(120, 84)\n",
    "        self.fc3 = torch.nn.Linear(84,10)\n",
    "\n",
    "\n",
    "    def forward(self, x):\n",
    "        x = self.pool(torch.nn.functional.relu(self.conv1(x)))\n",
    "        x = self.pool(torch.nn.functional.relu(self.conv2(x)))\n",
    "        x = x.view(-1, 16 * 4 * 4)\n",
    "        x = torch.nn.functional.relu(self.fc1(x))\n",
    "        x = torch.nn.functional.relu(self.fc2(x))\n",
    "        x = self.fc3(x)\n",
    "        return x"
   ]
  },
  {
   "cell_type": "code",
   "execution_count": 78,
   "metadata": {},
   "outputs": [
    {
     "name": "stdout",
     "output_type": "stream",
     "text": [
      "Predicted:  tensor(99)  Actual:  tensor(7)\n",
      "Predicted:  tensor(103)  Actual:  tensor(9)\n",
      "Predicted:  tensor(84)  Actual:  tensor(1)\n",
      "Predicted:  tensor(83)  Actual:  tensor(7)\n",
      "Predicted:  tensor(54)  Actual:  tensor(7)\n",
      "Predicted:  tensor(25)  Actual:  tensor(6)\n",
      "Predicted:  tensor(125)  Actual:  tensor(5)\n",
      "Predicted:  tensor(155)  Actual:  tensor(6)\n",
      "Predicted:  tensor(25)  Actual:  tensor(4)\n",
      "Predicted:  tensor(80)  Actual:  tensor(1)\n",
      "Predicted:  tensor(163)  Actual:  tensor(3)\n",
      "Predicted:  tensor(184)  Actual:  tensor(7)\n",
      "Predicted:  tensor(104)  Actual:  tensor(5)\n",
      "Predicted:  tensor(103)  Actual:  tensor(8)\n",
      "Predicted:  tensor(160)  Actual:  tensor(2)\n",
      "Predicted:  tensor(84)  Actual:  tensor(4)\n",
      "Predicted:  tensor(135)  Actual:  tensor(9)\n",
      "Predicted:  tensor(115)  Actual:  tensor(5)\n",
      "Predicted:  tensor(155)  Actual:  tensor(4)\n",
      "Predicted:  tensor(155)  Actual:  tensor(0)\n",
      "Predicted:  tensor(125)  Actual:  tensor(2)\n",
      "Predicted:  tensor(173)  Actual:  tensor(4)\n",
      "Predicted:  tensor(113)  Actual:  tensor(0)\n",
      "Predicted:  tensor(95)  Actual:  tensor(5)\n",
      "Predicted:  tensor(44)  Actual:  tensor(1)\n",
      "Predicted:  tensor(53)  Actual:  tensor(3)\n",
      "Predicted:  tensor(63)  Actual:  tensor(8)\n",
      "Predicted:  tensor(164)  Actual:  tensor(5)\n",
      "Predicted:  tensor(163)  Actual:  tensor(9)\n",
      "Predicted:  tensor(103)  Actual:  tensor(8)\n",
      "Predicted:  tensor(45)  Actual:  tensor(6)\n",
      "Predicted:  tensor(67)  Actual:  tensor(0)\n",
      "Predicted:  tensor(83)  Actual:  tensor(1)\n",
      "Predicted:  tensor(56)  Actual:  tensor(4)\n",
      "Predicted:  tensor(63)  Actual:  tensor(6)\n",
      "Predicted:  tensor(115)  Actual:  tensor(1)\n",
      "Predicted:  tensor(164)  Actual:  tensor(5)\n",
      "Predicted:  tensor(115)  Actual:  tensor(4)\n",
      "Predicted:  tensor(65)  Actual:  tensor(4)\n",
      "Predicted:  tensor(123)  Actual:  tensor(3)\n",
      "Predicted:  tensor(125)  Actual:  tensor(8)\n",
      "Predicted:  tensor(57)  Actual:  tensor(6)\n",
      "Predicted:  tensor(153)  Actual:  tensor(1)\n",
      "Predicted:  tensor(95)  Actual:  tensor(6)\n",
      "Predicted:  tensor(175)  Actual:  tensor(7)\n",
      "Predicted:  tensor(117)  Actual:  tensor(1)\n",
      "Predicted:  tensor(33)  Actual:  tensor(1)\n",
      "Predicted:  tensor(155)  Actual:  tensor(6)\n",
      "Predicted:  tensor(185)  Actual:  tensor(7)\n",
      "Predicted:  tensor(113)  Actual:  tensor(2)\n",
      "Predicted:  tensor(35)  Actual:  tensor(9)\n",
      "Predicted:  tensor(25)  Actual:  tensor(3)\n",
      "Predicted:  tensor(15)  Actual:  tensor(1)\n",
      "Predicted:  tensor(105)  Actual:  tensor(4)\n",
      "Predicted:  tensor(75)  Actual:  tensor(4)\n",
      "Predicted:  tensor(135)  Actual:  tensor(7)\n",
      "Predicted:  tensor(143)  Actual:  tensor(8)\n",
      "Predicted:  tensor(37)  Actual:  tensor(4)\n",
      "Predicted:  tensor(123)  Actual:  tensor(4)\n",
      "Predicted:  tensor(105)  Actual:  tensor(1)\n",
      "Predicted:  tensor(53)  Actual:  tensor(8)\n",
      "Predicted:  tensor(15)  Actual:  tensor(0)\n",
      "Predicted:  tensor(47)  Actual:  tensor(1)\n",
      "Predicted:  tensor(183)  Actual:  tensor(7)\n",
      "Predicted:  tensor(170)  Actual:  tensor(1)\n",
      "Predicted:  tensor(173)  Actual:  tensor(4)\n",
      "Predicted:  tensor(104)  Actual:  tensor(8)\n",
      "Predicted:  tensor(122)  Actual:  tensor(5)\n",
      "Predicted:  tensor(165)  Actual:  tensor(1)\n",
      "Predicted:  tensor(12)  Actual:  tensor(9)\n",
      "Predicted:  tensor(72)  Actual:  tensor(6)\n",
      "Predicted:  tensor(63)  Actual:  tensor(6)\n",
      "Predicted:  tensor(170)  Actual:  tensor(4)\n",
      "Predicted:  tensor(193)  Actual:  tensor(5)\n",
      "Predicted:  tensor(135)  Actual:  tensor(3)\n",
      "Predicted:  tensor(105)  Actual:  tensor(7)\n",
      "Predicted:  tensor(15)  Actual:  tensor(7)\n",
      "Predicted:  tensor(105)  Actual:  tensor(7)\n",
      "Predicted:  tensor(78)  Actual:  tensor(8)\n",
      "Predicted:  tensor(185)  Actual:  tensor(4)\n",
      "Predicted:  tensor(83)  Actual:  tensor(3)\n",
      "Predicted:  tensor(95)  Actual:  tensor(2)\n",
      "Predicted:  tensor(94)  Actual:  tensor(9)\n",
      "Predicted:  tensor(175)  Actual:  tensor(7)\n",
      "Predicted:  tensor(135)  Actual:  tensor(4)\n",
      "Predicted:  tensor(149)  Actual:  tensor(0)\n",
      "Predicted:  tensor(73)  Actual:  tensor(4)\n",
      "Predicted:  tensor(23)  Actual:  tensor(8)\n",
      "Predicted:  tensor(193)  Actual:  tensor(1)\n",
      "Predicted:  tensor(127)  Actual:  tensor(1)\n",
      "Predicted:  tensor(43)  Actual:  tensor(6)\n",
      "Predicted:  tensor(42)  Actual:  tensor(1)\n",
      "Predicted:  tensor(53)  Actual:  tensor(3)\n",
      "Predicted:  tensor(100)  Actual:  tensor(5)\n",
      "Predicted:  tensor(152)  Actual:  tensor(6)\n",
      "Predicted:  tensor(197)  Actual:  tensor(1)\n",
      "Predicted:  tensor(16)  Actual:  tensor(4)\n",
      "Predicted:  tensor(184)  Actual:  tensor(5)\n",
      "Predicted:  tensor(75)  Actual:  tensor(8)\n",
      "Predicted:  tensor(33)  Actual:  tensor(4)\n",
      "Predicted:  tensor(124)  Actual:  tensor(6)\n",
      "Predicted:  tensor(113)  Actual:  tensor(3)\n",
      "Predicted:  tensor(53)  Actual:  tensor(5)\n",
      "Predicted:  tensor(185)  Actual:  tensor(0)\n",
      "Predicted:  tensor(3)  Actual:  tensor(3)\n",
      "Predicted:  tensor(35)  Actual:  tensor(5)\n",
      "Predicted:  tensor(193)  Actual:  tensor(4)\n",
      "Predicted:  tensor(195)  Actual:  tensor(6)\n",
      "Predicted:  tensor(54)  Actual:  tensor(6)\n",
      "Predicted:  tensor(77)  Actual:  tensor(5)\n",
      "Predicted:  tensor(75)  Actual:  tensor(2)\n",
      "Predicted:  tensor(34)  Actual:  tensor(7)\n",
      "Predicted:  tensor(75)  Actual:  tensor(7)\n",
      "Predicted:  tensor(54)  Actual:  tensor(2)\n",
      "Predicted:  tensor(13)  Actual:  tensor(3)\n",
      "Predicted:  tensor(33)  Actual:  tensor(3)\n",
      "Predicted:  tensor(16)  Actual:  tensor(9)\n",
      "Predicted:  tensor(65)  Actual:  tensor(4)\n",
      "Predicted:  tensor(160)  Actual:  tensor(6)\n",
      "Predicted:  tensor(197)  Actual:  tensor(9)\n",
      "Predicted:  tensor(135)  Actual:  tensor(5)\n",
      "Predicted:  tensor(113)  Actual:  tensor(9)\n",
      "Predicted:  tensor(125)  Actual:  tensor(4)\n",
      "Predicted:  tensor(56)  Actual:  tensor(5)\n",
      "Predicted:  tensor(179)  Actual:  tensor(7)\n",
      "Predicted:  tensor(185)  Actual:  tensor(2)\n",
      "Predicted:  tensor(65)  Actual:  tensor(8)\n",
      "Predicted:  tensor(145)  Actual:  tensor(5)\n",
      "Predicted:  tensor(153)  Actual:  tensor(3)\n",
      "Predicted:  tensor(65)  Actual:  tensor(6)\n",
      "Predicted:  tensor(154)  Actual:  tensor(8)\n",
      "Predicted:  tensor(70)  Actual:  tensor(6)\n",
      "Predicted:  tensor(135)  Actual:  tensor(8)\n",
      "Predicted:  tensor(33)  Actual:  tensor(0)\n",
      "Predicted:  tensor(25)  Actual:  tensor(4)\n",
      "Predicted:  tensor(163)  Actual:  tensor(7)\n",
      "Predicted:  tensor(75)  Actual:  tensor(9)\n",
      "Predicted:  tensor(97)  Actual:  tensor(9)\n",
      "Predicted:  tensor(85)  Actual:  tensor(9)\n",
      "Predicted:  tensor(105)  Actual:  tensor(2)\n",
      "Predicted:  tensor(194)  Actual:  tensor(8)\n",
      "Predicted:  tensor(125)  Actual:  tensor(7)\n",
      "Predicted:  tensor(47)  Actual:  tensor(3)\n",
      "Predicted:  tensor(147)  Actual:  tensor(6)\n",
      "Predicted:  tensor(64)  Actual:  tensor(1)\n",
      "Predicted:  tensor(35)  Actual:  tensor(4)\n",
      "Predicted:  tensor(25)  Actual:  tensor(6)\n",
      "Predicted:  tensor(153)  Actual:  tensor(2)\n",
      "Predicted:  tensor(77)  Actual:  tensor(8)\n",
      "Predicted:  tensor(160)  Actual:  tensor(6)\n",
      "Predicted:  tensor(130)  Actual:  tensor(6)\n",
      "Predicted:  tensor(85)  Actual:  tensor(0)\n",
      "Predicted:  tensor(135)  Actual:  tensor(7)\n",
      "Predicted:  tensor(164)  Actual:  tensor(9)\n",
      "Predicted:  tensor(3)  Actual:  tensor(3)\n",
      "Predicted:  tensor(195)  Actual:  tensor(5)\n",
      "Predicted:  tensor(3)  Actual:  tensor(3)\n",
      "Predicted:  tensor(103)  Actual:  tensor(0)\n",
      "Predicted:  tensor(144)  Actual:  tensor(9)\n",
      "Predicted:  tensor(195)  Actual:  tensor(2)\n",
      "Predicted:  tensor(173)  Actual:  tensor(9)\n",
      "Predicted:  tensor(5)  Actual:  tensor(5)\n",
      "Predicted:  tensor(94)  Actual:  tensor(9)\n",
      "Predicted:  tensor(50)  Actual:  tensor(2)\n",
      "Predicted:  tensor(132)  Actual:  tensor(2)\n",
      "Predicted:  tensor(150)  Actual:  tensor(3)\n",
      "Predicted:  tensor(15)  Actual:  tensor(1)\n",
      "Predicted:  tensor(127)  Actual:  tensor(8)\n",
      "Predicted:  tensor(125)  Actual:  tensor(7)\n",
      "Predicted:  tensor(103)  Actual:  tensor(1)\n",
      "Predicted:  tensor(85)  Actual:  tensor(7)\n",
      "Predicted:  tensor(114)  Actual:  tensor(1)\n",
      "Predicted:  tensor(50)  Actual:  tensor(8)\n",
      "Predicted:  tensor(34)  Actual:  tensor(9)\n",
      "Predicted:  tensor(43)  Actual:  tensor(1)\n",
      "Predicted:  tensor(174)  Actual:  tensor(4)\n",
      "Predicted:  tensor(175)  Actual:  tensor(6)\n",
      "Predicted:  tensor(56)  Actual:  tensor(0)\n",
      "Predicted:  tensor(95)  Actual:  tensor(6)\n",
      "Predicted:  tensor(40)  Actual:  tensor(7)\n",
      "Predicted:  tensor(26)  Actual:  tensor(2)\n",
      "Predicted:  tensor(103)  Actual:  tensor(3)\n",
      "Predicted:  tensor(37)  Actual:  tensor(0)\n",
      "Predicted:  tensor(103)  Actual:  tensor(0)\n",
      "Predicted:  tensor(115)  Actual:  tensor(0)\n",
      "Predicted:  tensor(126)  Actual:  tensor(4)\n",
      "Predicted:  tensor(150)  Actual:  tensor(7)\n",
      "Predicted:  tensor(37)  Actual:  tensor(3)\n",
      "Predicted:  tensor(80)  Actual:  tensor(9)\n",
      "Predicted:  tensor(85)  Actual:  tensor(4)\n",
      "Predicted:  tensor(145)  Actual:  tensor(6)\n",
      "Predicted:  tensor(53)  Actual:  tensor(9)\n",
      "Predicted:  tensor(29)  Actual:  tensor(9)\n",
      "Predicted:  tensor(35)  Actual:  tensor(5)\n",
      "Predicted:  tensor(105)  Actual:  tensor(8)\n",
      "Predicted:  tensor(163)  Actual:  tensor(1)\n",
      "Predicted:  tensor(184)  Actual:  tensor(7)\n",
      "Predicted:  tensor(73)  Actual:  tensor(0)\n",
      "Predicted:  tensor(5)  Actual:  tensor(5)\n",
      "Predicted:  tensor(0)  Actual:  tensor(0)\n",
      "Predicted:  tensor(86)  Actual:  tensor(9)\n",
      "Predicted:  tensor(44)  Actual:  tensor(8)\n",
      "Predicted:  tensor(145)  Actual:  tensor(9)\n",
      "Predicted:  tensor(62)  Actual:  tensor(4)\n",
      "Predicted:  tensor(173)  Actual:  tensor(0)\n",
      "Predicted:  tensor(19)  Actual:  tensor(2)\n",
      "Predicted:  tensor(107)  Actual:  tensor(3)\n",
      "Predicted:  tensor(150)  Actual:  tensor(8)\n",
      "Predicted:  tensor(23)  Actual:  tensor(6)\n",
      "Predicted:  tensor(80)  Actual:  tensor(2)\n",
      "Predicted:  tensor(195)  Actual:  tensor(7)\n",
      "Predicted:  tensor(65)  Actual:  tensor(3)\n",
      "Predicted:  tensor(23)  Actual:  tensor(9)\n",
      "Predicted:  tensor(180)  Actual:  tensor(2)\n",
      "Predicted:  tensor(83)  Actual:  tensor(9)\n",
      "Predicted:  tensor(58)  Actual:  tensor(5)\n",
      "Predicted:  tensor(143)  Actual:  tensor(0)\n",
      "Predicted:  tensor(80)  Actual:  tensor(5)\n",
      "Predicted:  tensor(185)  Actual:  tensor(5)\n",
      "Predicted:  tensor(15)  Actual:  tensor(8)\n",
      "Predicted:  tensor(63)  Actual:  tensor(7)\n",
      "Predicted:  tensor(103)  Actual:  tensor(5)\n",
      "Predicted:  tensor(158)  Actual:  tensor(5)\n",
      "Predicted:  tensor(117)  Actual:  tensor(7)\n",
      "Predicted:  tensor(99)  Actual:  tensor(9)\n",
      "Predicted:  tensor(172)  Actual:  tensor(9)\n",
      "Predicted:  tensor(153)  Actual:  tensor(5)\n",
      "Predicted:  tensor(13)  Actual:  tensor(7)\n",
      "Predicted:  tensor(95)  Actual:  tensor(9)\n",
      "Predicted:  tensor(13)  Actual:  tensor(1)\n",
      "Predicted:  tensor(3)  Actual:  tensor(3)\n",
      "Predicted:  tensor(175)  Actual:  tensor(6)\n",
      "Predicted:  tensor(55)  Actual:  tensor(8)\n",
      "Predicted:  tensor(177)  Actual:  tensor(7)\n",
      "Predicted:  tensor(83)  Actual:  tensor(6)\n",
      "Predicted:  tensor(69)  Actual:  tensor(9)\n",
      "Predicted:  tensor(142)  Actual:  tensor(0)\n",
      "Predicted:  tensor(183)  Actual:  tensor(3)\n",
      "Predicted:  tensor(25)  Actual:  tensor(7)\n",
      "Predicted:  tensor(53)  Actual:  tensor(0)\n",
      "Predicted:  tensor(95)  Actual:  tensor(7)\n",
      "Predicted:  tensor(159)  Actual:  tensor(8)\n",
      "Predicted:  tensor(143)  Actual:  tensor(9)\n",
      "Predicted:  tensor(75)  Actual:  tensor(4)\n",
      "Predicted:  tensor(125)  Actual:  tensor(0)\n",
      "Predicted:  tensor(124)  Actual:  tensor(7)\n",
      "Predicted:  tensor(135)  Actual:  tensor(2)\n",
      "Predicted:  tensor(180)  Actual:  tensor(3)\n",
      "Predicted:  tensor(133)  Actual:  tensor(8)\n",
      "Predicted:  tensor(190)  Actual:  tensor(6)\n",
      "Predicted:  tensor(44)  Actual:  tensor(3)\n",
      "Predicted:  tensor(83)  Actual:  tensor(5)\n",
      "Predicted:  tensor(52)  Actual:  tensor(7)\n",
      "Predicted:  tensor(164)  Actual:  tensor(9)\n",
      "Predicted:  tensor(24)  Actual:  tensor(9)\n",
      "Predicted:  tensor(44)  Actual:  tensor(9)\n",
      "Predicted:  tensor(130)  Actual:  tensor(2)\n",
      "Predicted:  tensor(103)  Actual:  tensor(3)\n",
      "Predicted:  tensor(5)  Actual:  tensor(5)\n",
      "Predicted:  tensor(13)  Actual:  tensor(7)\n",
      "Predicted:  tensor(123)  Actual:  tensor(4)\n",
      "Predicted:  tensor(43)  Actual:  tensor(9)\n",
      "Predicted:  tensor(10)  Actual:  tensor(7)\n",
      "Predicted:  tensor(155)  Actual:  tensor(4)\n",
      "Predicted:  tensor(155)  Actual:  tensor(0)\n",
      "Predicted:  tensor(25)  Actual:  tensor(8)\n",
      "Predicted:  tensor(55)  Actual:  tensor(0)\n",
      "Predicted:  tensor(75)  Actual:  tensor(2)\n",
      "Predicted:  tensor(45)  Actual:  tensor(8)\n",
      "Predicted:  tensor(12)  Actual:  tensor(8)\n",
      "Predicted:  tensor(183)  Actual:  tensor(5)\n",
      "Predicted:  tensor(125)  Actual:  tensor(5)\n",
      "Predicted:  tensor(115)  Actual:  tensor(4)\n",
      "Predicted:  tensor(123)  Actual:  tensor(1)\n",
      "Predicted:  tensor(85)  Actual:  tensor(5)\n",
      "Predicted:  tensor(105)  Actual:  tensor(4)\n",
      "Predicted:  tensor(183)  Actual:  tensor(1)\n",
      "Predicted:  tensor(186)  Actual:  tensor(7)\n",
      "Predicted:  tensor(125)  Actual:  tensor(7)\n",
      "Predicted:  tensor(53)  Actual:  tensor(9)\n",
      "Predicted:  tensor(63)  Actual:  tensor(7)\n",
      "Predicted:  tensor(125)  Actual:  tensor(7)\n",
      "Predicted:  tensor(185)  Actual:  tensor(7)\n",
      "Predicted:  tensor(85)  Actual:  tensor(6)\n",
      "Predicted:  tensor(25)  Actual:  tensor(8)\n",
      "Predicted:  tensor(115)  Actual:  tensor(3)\n",
      "Predicted:  tensor(132)  Actual:  tensor(4)\n",
      "Predicted:  tensor(184)  Actual:  tensor(3)\n",
      "Predicted:  tensor(63)  Actual:  tensor(3)\n",
      "Predicted:  tensor(52)  Actual:  tensor(3)\n",
      "Predicted:  tensor(139)  Actual:  tensor(9)\n",
      "Predicted:  tensor(24)  Actual:  tensor(2)\n",
      "Predicted:  tensor(125)  Actual:  tensor(2)\n",
      "Predicted:  tensor(32)  Actual:  tensor(3)\n",
      "Predicted:  tensor(23)  Actual:  tensor(1)\n",
      "Predicted:  tensor(199)  Actual:  tensor(4)\n",
      "Predicted:  tensor(186)  Actual:  tensor(6)\n",
      "Predicted:  tensor(75)  Actual:  tensor(8)\n",
      "Predicted:  tensor(45)  Actual:  tensor(8)\n",
      "Predicted:  tensor(130)  Actual:  tensor(0)\n",
      "Predicted:  tensor(160)  Actual:  tensor(9)\n",
      "Predicted:  tensor(85)  Actual:  tensor(6)\n",
      "Predicted:  tensor(35)  Actual:  tensor(0)\n",
      "Predicted:  tensor(75)  Actual:  tensor(1)\n",
      "Predicted:  tensor(163)  Actual:  tensor(8)\n",
      "Predicted:  tensor(33)  Actual:  tensor(4)\n",
      "Predicted:  tensor(90)  Actual:  tensor(5)\n",
      "Predicted:  tensor(113)  Actual:  tensor(0)\n",
      "Predicted:  tensor(173)  Actual:  tensor(3)\n",
      "Predicted:  tensor(65)  Actual:  tensor(2)\n",
      "Predicted:  tensor(65)  Actual:  tensor(9)\n",
      "Predicted:  tensor(165)  Actual:  tensor(4)\n",
      "Predicted:  tensor(175)  Actual:  tensor(2)\n",
      "Predicted:  tensor(105)  Actual:  tensor(3)\n",
      "Predicted:  tensor(25)  Actual:  tensor(0)\n",
      "Predicted:  tensor(145)  Actual:  tensor(4)\n",
      "Predicted:  tensor(135)  Actual:  tensor(1)\n",
      "Predicted:  tensor(15)  Actual:  tensor(2)\n",
      "Predicted:  tensor(113)  Actual:  tensor(7)\n",
      "Predicted:  tensor(23)  Actual:  tensor(7)\n",
      "Predicted:  tensor(155)  Actual:  tensor(0)\n",
      "Predicted:  tensor(123)  Actual:  tensor(9)\n",
      "Predicted:  tensor(3)  Actual:  tensor(3)\n",
      "Predicted:  tensor(165)  Actual:  tensor(4)\n",
      "Predicted:  tensor(35)  Actual:  tensor(2)\n",
      "Predicted:  tensor(43)  Actual:  tensor(5)\n",
      "Predicted:  tensor(55)  Actual:  tensor(9)\n",
      "Predicted:  tensor(85)  Actual:  tensor(1)\n",
      "Predicted:  tensor(59)  Actual:  tensor(9)\n",
      "Predicted:  tensor(54)  Actual:  tensor(0)\n",
      "Predicted:  tensor(20)  Actual:  tensor(5)\n",
      "Predicted:  tensor(106)  Actual:  tensor(5)\n",
      "Predicted:  tensor(74)  Actual:  tensor(7)\n",
      "Predicted:  tensor(53)  Actual:  tensor(4)\n",
      "Predicted:  tensor(194)  Actual:  tensor(1)\n",
      "Predicted:  tensor(43)  Actual:  tensor(4)\n",
      "Predicted:  tensor(73)  Actual:  tensor(1)\n",
      "Predicted:  tensor(120)  Actual:  tensor(9)\n",
      "Predicted:  tensor(100)  Actual:  tensor(0)\n",
      "Predicted:  tensor(143)  Actual:  tensor(4)\n",
      "Predicted:  tensor(135)  Actual:  tensor(2)\n",
      "Predicted:  tensor(125)  Actual:  tensor(2)\n",
      "Predicted:  tensor(194)  Actual:  tensor(3)\n",
      "Predicted:  tensor(195)  Actual:  tensor(5)\n",
      "Predicted:  tensor(5)  Actual:  tensor(5)\n",
      "Predicted:  tensor(85)  Actual:  tensor(6)\n",
      "Predicted:  tensor(125)  Actual:  tensor(2)\n",
      "Predicted:  tensor(25)  Actual:  tensor(3)\n",
      "Predicted:  tensor(55)  Actual:  tensor(7)\n",
      "Predicted:  tensor(53)  Actual:  tensor(9)\n",
      "Predicted:  tensor(185)  Actual:  tensor(1)\n",
      "Predicted:  tensor(165)  Actual:  tensor(6)\n",
      "Predicted:  tensor(153)  Actual:  tensor(3)\n",
      "Predicted:  tensor(75)  Actual:  tensor(8)\n",
      "Predicted:  tensor(164)  Actual:  tensor(8)\n",
      "Predicted:  tensor(193)  Actual:  tensor(2)\n",
      "Predicted:  tensor(145)  Actual:  tensor(2)\n",
      "Predicted:  tensor(25)  Actual:  tensor(3)\n",
      "Predicted:  tensor(94)  Actual:  tensor(5)\n",
      "Predicted:  tensor(7)  Actual:  tensor(7)\n",
      "Predicted:  tensor(153)  Actual:  tensor(8)\n",
      "Predicted:  tensor(23)  Actual:  tensor(8)\n",
      "Predicted:  tensor(114)  Actual:  tensor(5)\n",
      "Predicted:  tensor(145)  Actual:  tensor(7)\n",
      "Predicted:  tensor(45)  Actual:  tensor(1)\n",
      "Predicted:  tensor(123)  Actual:  tensor(7)\n",
      "Predicted:  tensor(45)  Actual:  tensor(7)\n",
      "Predicted:  tensor(14)  Actual:  tensor(1)\n",
      "Predicted:  tensor(53)  Actual:  tensor(9)\n",
      "Predicted:  tensor(175)  Actual:  tensor(9)\n",
      "Predicted:  tensor(96)  Actual:  tensor(2)\n",
      "Predicted:  tensor(153)  Actual:  tensor(2)\n",
      "Predicted:  tensor(85)  Actual:  tensor(0)\n",
      "Predicted:  tensor(155)  Actual:  tensor(7)\n",
      "Predicted:  tensor(43)  Actual:  tensor(1)\n",
      "Predicted:  tensor(93)  Actual:  tensor(8)\n",
      "Predicted:  tensor(82)  Actual:  tensor(4)\n",
      "Predicted:  tensor(195)  Actual:  tensor(6)\n",
      "Predicted:  tensor(119)  Actual:  tensor(4)\n",
      "Predicted:  tensor(103)  Actual:  tensor(9)\n",
      "Predicted:  tensor(92)  Actual:  tensor(1)\n",
      "Predicted:  tensor(193)  Actual:  tensor(3)\n",
      "Predicted:  tensor(150)  Actual:  tensor(9)\n",
      "Predicted:  tensor(143)  Actual:  tensor(8)\n",
      "Predicted:  tensor(190)  Actual:  tensor(9)\n",
      "Predicted:  tensor(155)  Actual:  tensor(9)\n",
      "Predicted:  tensor(114)  Actual:  tensor(8)\n",
      "Predicted:  tensor(3)  Actual:  tensor(3)\n",
      "Predicted:  tensor(99)  Actual:  tensor(7)\n",
      "Predicted:  tensor(126)  Actual:  tensor(0)\n",
      "Predicted:  tensor(152)  Actual:  tensor(3)\n",
      "Predicted:  tensor(134)  Actual:  tensor(0)\n",
      "Predicted:  tensor(13)  Actual:  tensor(2)\n",
      "Predicted:  tensor(79)  Actual:  tensor(6)\n",
      "Predicted:  tensor(49)  Actual:  tensor(6)\n",
      "Predicted:  tensor(18)  Actual:  tensor(1)\n",
      "Predicted:  tensor(185)  Actual:  tensor(1)\n",
      "Predicted:  tensor(130)  Actual:  tensor(7)\n",
      "Predicted:  tensor(55)  Actual:  tensor(7)\n",
      "Predicted:  tensor(13)  Actual:  tensor(1)\n",
      "Predicted:  tensor(136)  Actual:  tensor(4)\n",
      "Predicted:  tensor(145)  Actual:  tensor(1)\n",
      "Predicted:  tensor(139)  Actual:  tensor(6)\n",
      "Predicted:  tensor(125)  Actual:  tensor(3)\n",
      "Predicted:  tensor(73)  Actual:  tensor(3)\n",
      "Predicted:  tensor(19)  Actual:  tensor(1)\n",
      "Predicted:  tensor(114)  Actual:  tensor(3)\n",
      "Predicted:  tensor(163)  Actual:  tensor(3)\n",
      "Predicted:  tensor(73)  Actual:  tensor(5)\n",
      "Predicted:  tensor(63)  Actual:  tensor(5)\n",
      "Predicted:  tensor(63)  Actual:  tensor(6)\n",
      "Predicted:  tensor(24)  Actual:  tensor(4)\n",
      "Predicted:  tensor(143)  Actual:  tensor(6)\n",
      "Predicted:  tensor(68)  Actual:  tensor(0)\n",
      "Predicted:  tensor(27)  Actual:  tensor(4)\n",
      "Predicted:  tensor(83)  Actual:  tensor(8)\n",
      "Predicted:  tensor(173)  Actual:  tensor(2)\n",
      "Predicted:  tensor(143)  Actual:  tensor(1)\n",
      "Predicted:  tensor(65)  Actual:  tensor(1)\n",
      "Predicted:  tensor(48)  Actual:  tensor(6)\n",
      "Predicted:  tensor(113)  Actual:  tensor(4)\n",
      "Predicted:  tensor(17)  Actual:  tensor(1)\n",
      "Predicted:  tensor(75)  Actual:  tensor(8)\n",
      "Predicted:  tensor(113)  Actual:  tensor(2)\n",
      "Predicted:  tensor(44)  Actual:  tensor(7)\n",
      "Predicted:  tensor(183)  Actual:  tensor(4)\n",
      "Predicted:  tensor(115)  Actual:  tensor(4)\n",
      "Predicted:  tensor(124)  Actual:  tensor(1)\n",
      "Predicted:  tensor(174)  Actual:  tensor(2)\n",
      "Predicted:  tensor(173)  Actual:  tensor(6)\n",
      "Predicted:  tensor(190)  Actual:  tensor(1)\n",
      "Predicted:  tensor(105)  Actual:  tensor(7)\n",
      "Predicted:  tensor(170)  Actual:  tensor(9)\n",
      "Predicted:  tensor(165)  Actual:  tensor(3)\n",
      "Predicted:  tensor(65)  Actual:  tensor(9)\n",
      "Predicted:  tensor(115)  Actual:  tensor(9)\n",
      "Predicted:  tensor(175)  Actual:  tensor(1)\n",
      "Predicted:  tensor(15)  Actual:  tensor(1)\n",
      "Predicted:  tensor(173)  Actual:  tensor(6)\n",
      "Predicted:  tensor(35)  Actual:  tensor(3)\n",
      "Predicted:  tensor(13)  Actual:  tensor(2)\n",
      "Predicted:  tensor(13)  Actual:  tensor(2)\n",
      "Predicted:  tensor(3)  Actual:  tensor(3)\n",
      "Predicted:  tensor(194)  Actual:  tensor(3)\n",
      "Predicted:  tensor(139)  Actual:  tensor(2)\n",
      "Predicted:  tensor(163)  Actual:  tensor(9)\n",
      "Predicted:  tensor(159)  Actual:  tensor(9)\n",
      "Predicted:  tensor(54)  Actual:  tensor(5)\n",
      "Predicted:  tensor(103)  Actual:  tensor(4)\n",
      "Predicted:  tensor(94)  Actual:  tensor(1)\n",
      "Predicted:  tensor(73)  Actual:  tensor(7)\n",
      "Predicted:  tensor(144)  Actual:  tensor(8)\n",
      "Predicted:  tensor(163)  Actual:  tensor(6)\n",
      "Predicted:  tensor(155)  Actual:  tensor(0)\n",
      "Predicted:  tensor(33)  Actual:  tensor(0)\n",
      "Predicted:  tensor(95)  Actual:  tensor(3)\n",
      "Predicted:  tensor(125)  Actual:  tensor(1)\n",
      "Predicted:  tensor(173)  Actual:  tensor(1)\n",
      "Predicted:  tensor(5)  Actual:  tensor(5)\n",
      "Predicted:  tensor(90)  Actual:  tensor(1)\n",
      "Predicted:  tensor(193)  Actual:  tensor(1)\n",
      "Predicted:  tensor(153)  Actual:  tensor(0)\n",
      "Predicted:  tensor(109)  Actual:  tensor(6)\n",
      "Predicted:  tensor(175)  Actual:  tensor(5)\n",
      "Predicted:  tensor(185)  Actual:  tensor(8)\n",
      "Predicted:  tensor(155)  Actual:  tensor(7)\n",
      "Predicted:  tensor(185)  Actual:  tensor(4)\n",
      "Predicted:  tensor(95)  Actual:  tensor(7)\n",
      "Predicted:  tensor(5)  Actual:  tensor(5)\n",
      "Predicted:  tensor(103)  Actual:  tensor(3)\n",
      "Predicted:  tensor(93)  Actual:  tensor(5)\n",
      "Predicted:  tensor(93)  Actual:  tensor(8)\n",
      "Predicted:  tensor(53)  Actual:  tensor(0)\n",
      "Predicted:  tensor(3)  Actual:  tensor(3)\n",
      "Predicted:  tensor(135)  Actual:  tensor(2)\n",
      "Predicted:  tensor(35)  Actual:  tensor(2)\n",
      "Predicted:  tensor(35)  Actual:  tensor(1)\n",
      "Predicted:  tensor(55)  Actual:  tensor(1)\n",
      "Predicted:  tensor(193)  Actual:  tensor(7)\n",
      "Predicted:  tensor(105)  Actual:  tensor(9)\n",
      "Predicted:  tensor(43)  Actual:  tensor(5)\n",
      "Predicted:  tensor(43)  Actual:  tensor(9)\n",
      "Predicted:  tensor(199)  Actual:  tensor(7)\n",
      "Predicted:  tensor(103)  Actual:  tensor(7)\n",
      "Predicted:  tensor(55)  Actual:  tensor(3)\n",
      "Predicted:  tensor(73)  Actual:  tensor(2)\n",
      "Predicted:  tensor(73)  Actual:  tensor(6)\n",
      "Predicted:  tensor(103)  Actual:  tensor(9)\n",
      "Predicted:  tensor(186)  Actual:  tensor(1)\n",
      "Predicted:  tensor(59)  Actual:  tensor(8)\n",
      "Predicted:  tensor(10)  Actual:  tensor(0)\n",
      "Predicted:  tensor(13)  Actual:  tensor(2)\n",
      "Predicted:  tensor(135)  Actual:  tensor(3)\n",
      "Predicted:  tensor(123)  Actual:  tensor(3)\n",
      "Predicted:  tensor(197)  Actual:  tensor(2)\n",
      "Predicted:  tensor(97)  Actual:  tensor(8)\n",
      "Predicted:  tensor(84)  Actual:  tensor(8)\n",
      "Predicted:  tensor(23)  Actual:  tensor(6)\n",
      "Predicted:  tensor(124)  Actual:  tensor(4)\n",
      "Predicted:  tensor(85)  Actual:  tensor(2)\n",
      "500\n",
      "16\n"
     ]
    }
   ],
   "source": [
    "with torch.no_grad():\n",
    "    #f.eval()\n",
    "    numCorrect = 0\n",
    "    for (x, y) in testingDL:\n",
    "        pred = f(x)\n",
    "        print(\"Predicted: \", torch.argmax(pred), \" Actual: \", torch.argmax(y))\n",
    "        if torch.argmax(pred) == torch.argmax(y):\n",
    "            numCorrect += 1\n",
    "    print(len(testingDL))\n",
    "    print(numCorrect)"
   ]
  },
  {
   "cell_type": "code",
   "execution_count": 80,
   "metadata": {},
   "outputs": [
    {
     "data": {
      "image/png": "[encoded data removed]",
      "text/plain": [
       "<Figure size 640x480 with 2 Axes>"
      ]
     },
     "metadata": {},
     "output_type": "display_data"
    }
   ],
   "source": [
    "plt.imshow(data[\"test\"][1][\"image\"], cmap=\"Greys\")\n",
    "plt.colorbar()\n",
    "plt.show()"
   ]
  },
  {
   "cell_type": "code",
   "execution_count": null,
   "metadata": {},
   "outputs": [],
   "source": []
  }
 ],
 "metadata": {
  "kernelspec": {
   "display_name": "base",
   "language": "python",
   "name": "python3"
  },
  "language_info": {
   "codemirror_mode": {
    "name": "ipython",
    "version": 3
   },
   "file_extension": ".py",
   "mimetype": "text/x-python",
   "name": "python",
   "nbconvert_exporter": "python",
   "pygments_lexer": "ipython3",
   "version": "3.9.16"
  },
  "orig_nbformat": 4,
  "vscode": {
   "interpreter": {
    "hash": "49f6107ad89c9c7fd79771d3dfcfde8fadaa90041805bc57f3ce6040a6e5d26c"
   }
  }
 },
 "nbformat": 4,
 "nbformat_minor": 2
}
